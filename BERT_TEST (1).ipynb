{
  "cells": [
    {
      "cell_type": "code",
      "execution_count": 1,
      "metadata": {
        "colab": {
          "base_uri": "https://localhost:8080/"
        },
        "id": "4GzBCS2P7KFQ",
        "outputId": "fe0c9736-f6a2-4648-9bbb-a97f6dc8b98c"
      },
      "outputs": [
        {
          "output_type": "stream",
          "name": "stdout",
          "text": [
            "Requirement already satisfied: transformers in /usr/local/lib/python3.10/dist-packages (4.35.2)\n",
            "Requirement already satisfied: filelock in /usr/local/lib/python3.10/dist-packages (from transformers) (3.13.1)\n",
            "Requirement already satisfied: huggingface-hub<1.0,>=0.16.4 in /usr/local/lib/python3.10/dist-packages (from transformers) (0.20.1)\n",
            "Requirement already satisfied: numpy>=1.17 in /usr/local/lib/python3.10/dist-packages (from transformers) (1.23.5)\n",
            "Requirement already satisfied: packaging>=20.0 in /usr/local/lib/python3.10/dist-packages (from transformers) (23.2)\n",
            "Requirement already satisfied: pyyaml>=5.1 in /usr/local/lib/python3.10/dist-packages (from transformers) (6.0.1)\n",
            "Requirement already satisfied: regex!=2019.12.17 in /usr/local/lib/python3.10/dist-packages (from transformers) (2023.6.3)\n",
            "Requirement already satisfied: requests in /usr/local/lib/python3.10/dist-packages (from transformers) (2.31.0)\n",
            "Requirement already satisfied: tokenizers<0.19,>=0.14 in /usr/local/lib/python3.10/dist-packages (from transformers) (0.15.0)\n",
            "Requirement already satisfied: safetensors>=0.3.1 in /usr/local/lib/python3.10/dist-packages (from transformers) (0.4.1)\n",
            "Requirement already satisfied: tqdm>=4.27 in /usr/local/lib/python3.10/dist-packages (from transformers) (4.66.1)\n",
            "Requirement already satisfied: fsspec>=2023.5.0 in /usr/local/lib/python3.10/dist-packages (from huggingface-hub<1.0,>=0.16.4->transformers) (2023.6.0)\n",
            "Requirement already satisfied: typing-extensions>=3.7.4.3 in /usr/local/lib/python3.10/dist-packages (from huggingface-hub<1.0,>=0.16.4->transformers) (4.5.0)\n",
            "Requirement already satisfied: charset-normalizer<4,>=2 in /usr/local/lib/python3.10/dist-packages (from requests->transformers) (3.3.2)\n",
            "Requirement already satisfied: idna<4,>=2.5 in /usr/local/lib/python3.10/dist-packages (from requests->transformers) (3.6)\n",
            "Requirement already satisfied: urllib3<3,>=1.21.1 in /usr/local/lib/python3.10/dist-packages (from requests->transformers) (2.0.7)\n",
            "Requirement already satisfied: certifi>=2017.4.17 in /usr/local/lib/python3.10/dist-packages (from requests->transformers) (2023.11.17)\n"
          ]
        }
      ],
      "source": [
        "!pip install transformers"
      ]
    },
    {
      "cell_type": "code",
      "execution_count": 2,
      "metadata": {
        "id": "EoLT8TsN7W1r"
      },
      "outputs": [],
      "source": [
        "import json\n",
        "from pathlib import Path\n",
        "import torch\n",
        "from torch.utils.data import DataLoader\n",
        "import time"
      ]
    },
    {
      "cell_type": "code",
      "source": [
        "# Install TensorFlow\n",
        "!pip install tensorflow\n",
        "\n",
        "# Import library yang diperlukan\n",
        "import tensorflow as tf\n",
        "from google.colab import drive"
      ],
      "metadata": {
        "colab": {
          "base_uri": "https://localhost:8080/"
        },
        "id": "PbdKJ7hhsLfg",
        "outputId": "15849286-2c95-4d6f-cd29-60021b45615a"
      },
      "execution_count": 3,
      "outputs": [
        {
          "output_type": "stream",
          "name": "stdout",
          "text": [
            "Requirement already satisfied: tensorflow in /usr/local/lib/python3.10/dist-packages (2.15.0)\n",
            "Requirement already satisfied: absl-py>=1.0.0 in /usr/local/lib/python3.10/dist-packages (from tensorflow) (1.4.0)\n",
            "Requirement already satisfied: astunparse>=1.6.0 in /usr/local/lib/python3.10/dist-packages (from tensorflow) (1.6.3)\n",
            "Requirement already satisfied: flatbuffers>=23.5.26 in /usr/local/lib/python3.10/dist-packages (from tensorflow) (23.5.26)\n",
            "Requirement already satisfied: gast!=0.5.0,!=0.5.1,!=0.5.2,>=0.2.1 in /usr/local/lib/python3.10/dist-packages (from tensorflow) (0.5.4)\n",
            "Requirement already satisfied: google-pasta>=0.1.1 in /usr/local/lib/python3.10/dist-packages (from tensorflow) (0.2.0)\n",
            "Requirement already satisfied: h5py>=2.9.0 in /usr/local/lib/python3.10/dist-packages (from tensorflow) (3.9.0)\n",
            "Requirement already satisfied: libclang>=13.0.0 in /usr/local/lib/python3.10/dist-packages (from tensorflow) (16.0.6)\n",
            "Requirement already satisfied: ml-dtypes~=0.2.0 in /usr/local/lib/python3.10/dist-packages (from tensorflow) (0.2.0)\n",
            "Requirement already satisfied: numpy<2.0.0,>=1.23.5 in /usr/local/lib/python3.10/dist-packages (from tensorflow) (1.23.5)\n",
            "Requirement already satisfied: opt-einsum>=2.3.2 in /usr/local/lib/python3.10/dist-packages (from tensorflow) (3.3.0)\n",
            "Requirement already satisfied: packaging in /usr/local/lib/python3.10/dist-packages (from tensorflow) (23.2)\n",
            "Requirement already satisfied: protobuf!=4.21.0,!=4.21.1,!=4.21.2,!=4.21.3,!=4.21.4,!=4.21.5,<5.0.0dev,>=3.20.3 in /usr/local/lib/python3.10/dist-packages (from tensorflow) (3.20.3)\n",
            "Requirement already satisfied: setuptools in /usr/local/lib/python3.10/dist-packages (from tensorflow) (67.7.2)\n",
            "Requirement already satisfied: six>=1.12.0 in /usr/local/lib/python3.10/dist-packages (from tensorflow) (1.16.0)\n",
            "Requirement already satisfied: termcolor>=1.1.0 in /usr/local/lib/python3.10/dist-packages (from tensorflow) (2.4.0)\n",
            "Requirement already satisfied: typing-extensions>=3.6.6 in /usr/local/lib/python3.10/dist-packages (from tensorflow) (4.5.0)\n",
            "Requirement already satisfied: wrapt<1.15,>=1.11.0 in /usr/local/lib/python3.10/dist-packages (from tensorflow) (1.14.1)\n",
            "Requirement already satisfied: tensorflow-io-gcs-filesystem>=0.23.1 in /usr/local/lib/python3.10/dist-packages (from tensorflow) (0.35.0)\n",
            "Requirement already satisfied: grpcio<2.0,>=1.24.3 in /usr/local/lib/python3.10/dist-packages (from tensorflow) (1.60.0)\n",
            "Requirement already satisfied: tensorboard<2.16,>=2.15 in /usr/local/lib/python3.10/dist-packages (from tensorflow) (2.15.1)\n",
            "Requirement already satisfied: tensorflow-estimator<2.16,>=2.15.0 in /usr/local/lib/python3.10/dist-packages (from tensorflow) (2.15.0)\n",
            "Requirement already satisfied: keras<2.16,>=2.15.0 in /usr/local/lib/python3.10/dist-packages (from tensorflow) (2.15.0)\n",
            "Requirement already satisfied: wheel<1.0,>=0.23.0 in /usr/local/lib/python3.10/dist-packages (from astunparse>=1.6.0->tensorflow) (0.42.0)\n",
            "Requirement already satisfied: google-auth<3,>=1.6.3 in /usr/local/lib/python3.10/dist-packages (from tensorboard<2.16,>=2.15->tensorflow) (2.17.3)\n",
            "Requirement already satisfied: google-auth-oauthlib<2,>=0.5 in /usr/local/lib/python3.10/dist-packages (from tensorboard<2.16,>=2.15->tensorflow) (1.2.0)\n",
            "Requirement already satisfied: markdown>=2.6.8 in /usr/local/lib/python3.10/dist-packages (from tensorboard<2.16,>=2.15->tensorflow) (3.5.1)\n",
            "Requirement already satisfied: requests<3,>=2.21.0 in /usr/local/lib/python3.10/dist-packages (from tensorboard<2.16,>=2.15->tensorflow) (2.31.0)\n",
            "Requirement already satisfied: tensorboard-data-server<0.8.0,>=0.7.0 in /usr/local/lib/python3.10/dist-packages (from tensorboard<2.16,>=2.15->tensorflow) (0.7.2)\n",
            "Requirement already satisfied: werkzeug>=1.0.1 in /usr/local/lib/python3.10/dist-packages (from tensorboard<2.16,>=2.15->tensorflow) (3.0.1)\n",
            "Requirement already satisfied: cachetools<6.0,>=2.0.0 in /usr/local/lib/python3.10/dist-packages (from google-auth<3,>=1.6.3->tensorboard<2.16,>=2.15->tensorflow) (5.3.2)\n",
            "Requirement already satisfied: pyasn1-modules>=0.2.1 in /usr/local/lib/python3.10/dist-packages (from google-auth<3,>=1.6.3->tensorboard<2.16,>=2.15->tensorflow) (0.3.0)\n",
            "Requirement already satisfied: rsa<5,>=3.1.4 in /usr/local/lib/python3.10/dist-packages (from google-auth<3,>=1.6.3->tensorboard<2.16,>=2.15->tensorflow) (4.9)\n",
            "Requirement already satisfied: requests-oauthlib>=0.7.0 in /usr/local/lib/python3.10/dist-packages (from google-auth-oauthlib<2,>=0.5->tensorboard<2.16,>=2.15->tensorflow) (1.3.1)\n",
            "Requirement already satisfied: charset-normalizer<4,>=2 in /usr/local/lib/python3.10/dist-packages (from requests<3,>=2.21.0->tensorboard<2.16,>=2.15->tensorflow) (3.3.2)\n",
            "Requirement already satisfied: idna<4,>=2.5 in /usr/local/lib/python3.10/dist-packages (from requests<3,>=2.21.0->tensorboard<2.16,>=2.15->tensorflow) (3.6)\n",
            "Requirement already satisfied: urllib3<3,>=1.21.1 in /usr/local/lib/python3.10/dist-packages (from requests<3,>=2.21.0->tensorboard<2.16,>=2.15->tensorflow) (2.0.7)\n",
            "Requirement already satisfied: certifi>=2017.4.17 in /usr/local/lib/python3.10/dist-packages (from requests<3,>=2.21.0->tensorboard<2.16,>=2.15->tensorflow) (2023.11.17)\n",
            "Requirement already satisfied: MarkupSafe>=2.1.1 in /usr/local/lib/python3.10/dist-packages (from werkzeug>=1.0.1->tensorboard<2.16,>=2.15->tensorflow) (2.1.3)\n",
            "Requirement already satisfied: pyasn1<0.6.0,>=0.4.6 in /usr/local/lib/python3.10/dist-packages (from pyasn1-modules>=0.2.1->google-auth<3,>=1.6.3->tensorboard<2.16,>=2.15->tensorflow) (0.5.1)\n",
            "Requirement already satisfied: oauthlib>=3.0.0 in /usr/local/lib/python3.10/dist-packages (from requests-oauthlib>=0.7.0->google-auth-oauthlib<2,>=0.5->tensorboard<2.16,>=2.15->tensorflow) (3.2.2)\n"
          ]
        }
      ]
    },
    {
      "cell_type": "code",
      "source": [
        "\n",
        "# Mount Google Drive\n",
        "drive.mount('/content/drive')"
      ],
      "metadata": {
        "colab": {
          "base_uri": "https://localhost:8080/"
        },
        "id": "y5UNentTsJOZ",
        "outputId": "777bb3fc-7d4b-4d49-c2b3-39d937022347"
      },
      "execution_count": 4,
      "outputs": [
        {
          "output_type": "stream",
          "name": "stdout",
          "text": [
            "Mounted at /content/drive\n"
          ]
        }
      ]
    },
    {
      "cell_type": "code",
      "execution_count": null,
      "metadata": {
        "id": "pSmPjfZ47adK"
      },
      "outputs": [],
      "source": [
        "# Define the bert tokenizer\n",
        "from transformers import AutoTokenizer,AdamW,BertForQuestionAnswering, AutoModel\n",
        "tokenizer = AutoTokenizer.from_pretrained(\"Rifky/Indobert-QA\")\n",
        "\n",
        "# Load the fine-tuned modeol\n",
        "model = torch.load(\"/content/drive/MyDrive/model3_1.9\",map_location=torch.device('cpu'))\n",
        "#model = AutoModel.from_pretrained(\"Rifky/Indobert-QA\")\n",
        "model.eval()"
      ]
    },
    {
      "cell_type": "code",
      "execution_count": 6,
      "metadata": {
        "id": "a_LjJTFo7eU2"
      },
      "outputs": [],
      "source": [
        "#fungsi prediksi\n",
        "\n",
        "def predict(context,query):\n",
        "\n",
        "  inputs = tokenizer.encode_plus(query, context, return_tensors='pt')\n",
        "\n",
        "  outputs = model(**inputs)\n",
        "  answer_start = torch.argmax(outputs[0])  # get the most likely beginning of answer with the argmax of the score\n",
        "  answer_end = torch.argmax(outputs[1]) + 1\n",
        "\n",
        "  answer = tokenizer.convert_tokens_to_string(tokenizer.convert_ids_to_tokens(inputs['input_ids'][0][answer_start:answer_end]))\n",
        "\n",
        "  return answer\n",
        "\n",
        "def normalize_text(s):\n",
        "  \"\"\"Removing articles and punctuation, and standardizing whitespace are all typical text processing steps.\"\"\"\n",
        "  import string, re\n",
        "\n",
        "  def remove_articles(text):\n",
        "    regex = re.compile(r\"\\b(a|an|the)\\b\", re.UNICODE)\n",
        "    return re.sub(regex, \" \", text)\n",
        "\n",
        "  def white_space_fix(text):\n",
        "    return \" \".join(text.split())\n",
        "\n",
        "  def remove_punc(text):\n",
        "    exclude = set(string.punctuation)\n",
        "    return \"\".join(ch for ch in text if ch not in exclude)\n",
        "\n",
        "  def lower(text):\n",
        "    return text.lower()\n",
        "\n",
        "  return white_space_fix(remove_articles(remove_punc(lower(s))))\n",
        "\n",
        "def compute_exact_match(prediction, truth):\n",
        "    return int(normalize_text(prediction) == normalize_text(truth))\n",
        "\n",
        "def compute_f1(prediction, truth):\n",
        "  pred_tokens = normalize_text(prediction).split()\n",
        "  truth_tokens = normalize_text(truth).split()\n",
        "\n",
        "  # if either the prediction or the truth is no-answer then f1 = 1 if they agree, 0 otherwise\n",
        "  if len(pred_tokens) == 0 or len(truth_tokens) == 0:\n",
        "    return int(pred_tokens == truth_tokens)\n",
        "\n",
        "  common_tokens = set(pred_tokens) & set(truth_tokens)\n",
        "\n",
        "  # if there are no common tokens then f1 = 0\n",
        "  if len(common_tokens) == 0:\n",
        "    return 0\n",
        "\n",
        "  prec = len(common_tokens) / len(pred_tokens)\n",
        "  rec = len(common_tokens) / len(truth_tokens)\n",
        "\n",
        "  return 2 * (prec * rec) / (prec + rec)\n",
        "\n",
        "def compute_precision(prediction, truth):\n",
        "  pred_tokens = normalize_text(prediction).split()\n",
        "  truth_tokens = normalize_text(truth).split()\n",
        "\n",
        "  # if either the prediction or the truth is no-answer then f1 = 1 if they agree, 0 otherwise\n",
        "  if len(pred_tokens) == 0 or len(truth_tokens) == 0:\n",
        "    return int(pred_tokens == truth_tokens)\n",
        "\n",
        "  common_tokens = set(pred_tokens) & set(truth_tokens)\n",
        "\n",
        "  # if there are no common tokens then f1 = 0\n",
        "  if len(common_tokens) == 0:\n",
        "    return 0\n",
        "\n",
        "  prec = len(common_tokens) / len(pred_tokens)\n",
        "  rec = len(common_tokens) / len(truth_tokens)\n",
        "\n",
        "  return prec\n",
        "\n",
        "def compute_recall(prediction, truth):\n",
        "  pred_tokens = normalize_text(prediction).split()\n",
        "  truth_tokens = normalize_text(truth).split()\n",
        "\n",
        "  # if either the prediction or the truth is no-answer then f1 = 1 if they agree, 0 otherwise\n",
        "  if len(pred_tokens) == 0 or len(truth_tokens) == 0:\n",
        "    return int(pred_tokens == truth_tokens)\n",
        "\n",
        "  common_tokens = set(pred_tokens) & set(truth_tokens)\n",
        "\n",
        "  # if there are no common tokens then f1 = 0\n",
        "  if len(common_tokens) == 0:\n",
        "    return 0\n",
        "\n",
        "  prec = len(common_tokens) / len(pred_tokens)\n",
        "  rec = len(common_tokens) / len(truth_tokens)\n",
        "\n",
        "  return rec"
      ]
    },
    {
      "cell_type": "code",
      "execution_count": 7,
      "metadata": {
        "id": "F7DxdPth7iHT"
      },
      "outputs": [],
      "source": [
        "def give_an_answer(context,query,answer):\n",
        "  prediction = predict(context,query)\n",
        "  em_score = compute_exact_match(prediction, answer)\n",
        "  f1_score = compute_f1(prediction, answer)\n",
        "  prec = compute_precision(prediction, answer)\n",
        "  rec = compute_recall(prediction, answer)\n",
        "\n",
        "  print(f\"Question: {query}\")\n",
        "  print(f\"Prediction: {prediction}\")\n",
        "  print(f\"True Answer: {answer}\")\n",
        "  print(f\"EM: {em_score}\")\n",
        "  print(f\"F1: {f1_score}\")\n",
        "  print(f\"Precision: {prec}\")\n",
        "  print(f\"Recall: {rec}\")\n",
        "  print(\"\\n\")"
      ]
    },
    {
      "cell_type": "markdown",
      "metadata": {
        "id": "paeR-Bap7vph"
      },
      "source": [
        "QUESTION ANSWERING"
      ]
    },
    {
      "cell_type": "code",
      "source": [
        "context = \"Hama dan penyakit tumbuhan merupakan jenis organisme pengganggu tumbuhan (OPT), selain gulma. Serangan hama dan penyakit pada tanaman dapat menyebabkan kerugian besar pada tanaman dan dapat mengancam perekonomian petani. Penyebaran hama dan penyakit tanaman meningkat drastis dalam beberapa tahun terakhir. Hama dan penyakit tanaman mudah menyebar ke beberapa negara dan mencapai proporsi epidemi. Belalang, lalat buah, ulat grayak, penyakit antaknose, fuso, penyakit virus kerdil, busuk buah adalah beberapa hama dan penyakit tanaman yang paling merusak. Tiga cara penyebaran hama dan penyakit tanaman yaitu dengan cara: 1) perdagangan atau migrasi 2) pengaruh lingkungan, seperti faktor cuaca, angin, percikan air hujan, dan 3) faktor biotik berupa: serangga atau vektor lainnya.\"\n",
        "queries = [\"Apa yang dimaksud dengan Hama dan Penyakit Tanaman?\",\n",
        "           \"Apa saja beberapa hama dan penyakit tanaman yang merusak?\",\n",
        "           \"Bagaimana cara penyebaran hama dan penyakit tanaman?\"\n",
        "           ]\n",
        "answers = [\"Hama dan penyakit tumbuhan merupakan jenis organisme pengganggu tumbuhan (OPT), selain gulma.\",\n",
        "           \"Belalang, lalat buah, ulat grayak, penyakit antaknose, fuso, penyakit virus kerdil, busuk buah adalah beberapa hama dan penyakit tanaman yang paling merusak.\",\n",
        "           \"Tiga cara penyebaran hama dan penyakit tanaman yaitu dengan cara: 1) perdagangan atau migrasi 2) pengaruh lingkungan, seperti faktor cuaca, angin, percikan air hujan, dan 3) faktor biotik berupa: serangga atau vektor lainnya.\"\n",
        "           ]\n",
        "\n",
        "for q,a in zip(queries,answers):\n",
        "  give_an_answer(context,q,a)\n",
        "\n",
        "\n",
        "\n",
        "\n",
        "  #_________________________________________________________________________________________________#\n",
        "\n",
        "\n",
        "\n",
        "\n",
        "context = \"Permasalahan organisme pengganggu tumbuhan di lapangan seperti serangga dan penyakit dapat dicegah dengan menjaga kesehatan tanaman yaitu budidaya tanaman sehat, misalnya dengan menggunakan benih bersertifikat, memilih varietas tanaman yang tahan penyakit, melakukan rotasi tanaman yang bukan satu famili dengan tanaman yang ditanam di area yang sama selama beberapa tahun berturut-turut, mempertahankan nutrisi tanah seperti pemberian pupuk dengan dosis yang tepat. Pengolahan tanaman juga dapat dilakukan dengan cara irigasi yaitu mengairi tanaman dengan benar. Menjaga agar pertanaman bebas dari gulma, karena gulma dapat berpotensi menjadi sumber inokulum bagi patogen dan merupakan inang alternatif bagi hama dan penyakit yang menyerang pertanaman. Penggunaan pestisida kimia merupakan alternatif terakhir, karena penggunaan pestisida yang terlalu sering akan berdampak negatif bagi lingkungan dan dapat membunuh serangga yang menguntungkan. Hama merupakan salah satu jenis organisme pengganggu tanaman (OPT) yang karena aktivitasnya dapat merusak tanaman dan menyebabkan kerugian pada tanaman. Serangan hama ini dapat terjadi mulai dari benih hingga pasca panen (hama gudang). Pengertian hama dalam arti luas merupakan semua macam bentuk gangguan yang dapat menyebabkan kerusakan dan kerugian pada manusia, ternak dan tanaman. Sedangkan pengertian hama dalam arti sempit yaitu semua jenis hewan yang berpotensi mengganggu pada kegiatan budidaya tanaman yang berakibat merusak tanaman dan menurunkan produksi tanaman secara ekonomis (Simluhtan Kementerian Pertanian, 2019).\"\n",
        "queries = [\"Apa yang dimaksud dengan hama dalam arti luas?\",\n",
        "           \"Kapan serangan hama dapat terjadi pada tanaman?\",\n",
        "           \"Apa yang dimaksud dengan hama dalam arti sempit?\",\n",
        "           \"Apa dampak merusak tanaman yang disebabkan oleh hama?\"\n",
        "           ]\n",
        "answers = [\"Pengertian hama dalam arti luas merupakan semua macam bentuk gangguan yang dapat menyebabkan kerusakan dan kerugian pada manusia, ternak, dan tanaman.\",\n",
        "           \"Serangan hama dapat terjadi mulai dari benih hingga pasca panen (hama gudang).\",\n",
        "           \"Tiga cara penyebaran hama dan penyakit tanaman yaitu dengan cara: 1) perdagangan atau migrasi 2) pengaruh lingkungan, seperti faktor cuaca, angin, percikan air hujan, dan 3) faktor biotik berupa: serangga atau vektor lainnya.\"\n",
        "           \"Pengertian hama dalam arti sempit yaitu semua jenis hewan yang berpotensi mengganggu pada kegiatan budidaya tanaman yang berakibat merusak tanaman dan menurunkan produksi tanaman secara ekonomis.\",\n",
        "           \"Aktivitas hama dapat merusak tanaman dan menyebabkan kerugian pada tanaman, menurunkan produksi tanaman secara ekonomis.\"\n",
        "           ]\n",
        "\n",
        "for q,a in zip(queries,answers):\n",
        "  give_an_answer(context,q,a)"
      ],
      "metadata": {
        "colab": {
          "base_uri": "https://localhost:8080/"
        },
        "id": "qD04EkQCvabT",
        "outputId": "30f79a40-a905-4000-b4d7-8b20f75650fa"
      },
      "execution_count": 27,
      "outputs": [
        {
          "output_type": "stream",
          "name": "stdout",
          "text": [
            "Question: Apa yang dimaksud dengan Hama dan Penyakit Tanaman?\n",
            "Prediction: merupakan\n",
            "True Answer: Hama dan penyakit tumbuhan merupakan jenis organisme pengganggu tumbuhan (OPT), selain gulma.\n",
            "EM: 0\n",
            "F1: 0.15384615384615385\n",
            "Precision: 1.0\n",
            "Recall: 0.08333333333333333\n",
            "\n",
            "\n",
            "Question: Apa saja beberapa hama dan penyakit tanaman yang merusak?\n",
            "Prediction: \n",
            "True Answer: Belalang, lalat buah, ulat grayak, penyakit antaknose, fuso, penyakit virus kerdil, busuk buah adalah beberapa hama dan penyakit tanaman yang paling merusak.\n",
            "EM: 0\n",
            "F1: 0\n",
            "Precision: 0\n",
            "Recall: 0\n",
            "\n",
            "\n",
            "Question: Bagaimana cara penyebaran hama dan penyakit tanaman?\n",
            "Prediction: dengan cara : 1 ) perdagangan atau migrasi\n",
            "True Answer: Tiga cara penyebaran hama dan penyakit tanaman yaitu dengan cara: 1) perdagangan atau migrasi 2) pengaruh lingkungan, seperti faktor cuaca, angin, percikan air hujan, dan 3) faktor biotik berupa: serangga atau vektor lainnya.\n",
            "EM: 0\n",
            "F1: 0.3076923076923077\n",
            "Precision: 1.0\n",
            "Recall: 0.18181818181818182\n",
            "\n",
            "\n",
            "Question: Apa yang dimaksud dengan hama dalam arti luas?\n",
            "Prediction: \n",
            "True Answer: Pengertian hama dalam arti luas merupakan semua macam bentuk gangguan yang dapat menyebabkan kerusakan dan kerugian pada manusia, ternak, dan tanaman.\n",
            "EM: 0\n",
            "F1: 0\n",
            "Precision: 0\n",
            "Recall: 0\n",
            "\n",
            "\n",
            "Question: Kapan serangan hama dapat terjadi pada tanaman?\n",
            "Prediction: mulai dari benih hingga pasca panen\n",
            "True Answer: Serangan hama dapat terjadi mulai dari benih hingga pasca panen (hama gudang).\n",
            "EM: 0\n",
            "F1: 0.6666666666666666\n",
            "Precision: 1.0\n",
            "Recall: 0.5\n",
            "\n",
            "\n",
            "Question: Apa yang dimaksud dengan hama dalam arti sempit?\n",
            "Prediction: \n",
            "True Answer: Tiga cara penyebaran hama dan penyakit tanaman yaitu dengan cara: 1) perdagangan atau migrasi 2) pengaruh lingkungan, seperti faktor cuaca, angin, percikan air hujan, dan 3) faktor biotik berupa: serangga atau vektor lainnya.Pengertian hama dalam arti sempit yaitu semua jenis hewan yang berpotensi mengganggu pada kegiatan budidaya tanaman yang berakibat merusak tanaman dan menurunkan produksi tanaman secara ekonomis.\n",
            "EM: 0\n",
            "F1: 0\n",
            "Precision: 0\n",
            "Recall: 0\n",
            "\n",
            "\n",
            "Question: Apa dampak merusak tanaman yang disebabkan oleh hama?\n",
            "Prediction: hama merupakan\n",
            "True Answer: Aktivitas hama dapat merusak tanaman dan menyebabkan kerugian pada tanaman, menurunkan produksi tanaman secara ekonomis.\n",
            "EM: 0\n",
            "F1: 0.11764705882352941\n",
            "Precision: 0.5\n",
            "Recall: 0.06666666666666667\n",
            "\n",
            "\n"
          ]
        }
      ]
    },
    {
      "cell_type": "code",
      "source": [],
      "metadata": {
        "id": "vEnjgOJA5Fei"
      },
      "execution_count": null,
      "outputs": []
    }
  ],
  "metadata": {
    "colab": {
      "provenance": []
    },
    "kernelspec": {
      "display_name": "Python 3",
      "name": "python3"
    },
    "language_info": {
      "name": "python"
    }
  },
  "nbformat": 4,
  "nbformat_minor": 0
}